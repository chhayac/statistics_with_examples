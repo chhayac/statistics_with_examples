{
 "cells": [
  {
   "cell_type": "markdown",
   "metadata": {},
   "source": [
    "### Cookie Problem\n",
    "Suppose there are two bowls of cookies.\n",
    "* Bowl 1 has 5 chocolate and 10 vanilla.\n",
    "* Bowl 2 has 10 of each.\n",
    "I pick a bowl at random and then pick a cookie at random. The cookie turns out to be vanilla.\n",
    "What is the probability that the cookie was picked from the bowl 1?\n",
    "\n",
    "Explanation is as follows:\n",
    "We have a hypothesis H and we have a belief about that hypothesis based on what you have seen in the past. Now, there is a new data (D) provided by someone and you use that data to update your belief. So, now we have P(H|D) - probability of hypothesis after you saw the data and P(H) - Probability of hypothesis before you saw the data. It is called inference problem because we are using the data to infer something about the system that produced that data. (In our case, which bowl it was?)\n",
    "\n",
    "so, few notations:\n",
    "* H: Hypothesis that cookie was picked from bowl 1\n",
    "* D: Cookie is vanilla\n",
    "\n",
    "- Given, P(H) - Probability of the hypothesis before you saw the data\n",
    "- Find P(H|D) - Probability of the hypothesis after you saw the data\n",
    "\n",
    "* We solve this problem using Bayes theorem:\n",
    "    - P(H|D) = P(H)P(D|H) / P(D)\n",
    "    - where P(H) = Prior = 1/2 (Since we have to choose from either of the bowls), \n",
    "    - P(D|H) = Conditional likelihood of the data = 2/3\n",
    "    - P(D) = Total probability of the data = 4/7 (Chance of getting a vanilla cookie when we have mixed the cookies from both the bowls)\n",
    "    \n",
    "* Intuition\n",
    "P(H) = prior = 50%\n",
    "P(H|D) = posterior = ((1/2)*(2/3)) / (4/7) = 58%\n",
    "\n",
    "D is more likely under H.\n",
    "D increases our degree of belief in H.\n",
    "    \n",
    "    \n",
    " Computation: \n",
    " Pmf - Probability mass function\n",
    " It basically maps possible outcomes to probabilities. For example; when we roll a dice, the possible outcomes are 1,2,3,4,5 & 6 which probability of each being 1/2."
   ]
  },
  {
   "cell_type": "code",
   "execution_count": 2,
   "metadata": {},
   "outputs": [
    {
     "name": "stdout",
     "output_type": "stream",
     "text": [
      "Collecting empyrical-dist\n",
      "  Downloading https://files.pythonhosted.org/packages/33/01/677b7cfba73873b91d6239ae961870028469f9b2c85e5830b4d200e56f1f/empyrical_dist-0.2.0.tar.gz\n",
      "Building wheels for collected packages: empyrical-dist\n",
      "  Running setup.py bdist_wheel for empyrical-dist ... \u001b[?25ldone\n",
      "\u001b[?25h  Stored in directory: /Users/cchoudhary/Library/Caches/pip/wheels/b5/33/56/c1f9f4c185160b176514f3d2550eabaf9a2cd514ec033ebba6\n",
      "Successfully built empyrical-dist\n",
      "Installing collected packages: empyrical-dist\n",
      "Successfully installed empyrical-dist-0.2.0\n",
      "\u001b[33mYou are using pip version 18.0, however version 19.1.1 is available.\n",
      "You should consider upgrading via the 'pip install --upgrade pip' command.\u001b[0m\n"
     ]
    }
   ],
   "source": [
    "!pip install empyrical-dist"
   ]
  },
  {
   "cell_type": "code",
   "execution_count": 3,
   "metadata": {},
   "outputs": [],
   "source": [
    "%matplotlib inline\n",
    "\n",
    "import numpy as np\n",
    "import pandas as pd\n",
    "\n",
    "import seaborn as sns\n",
    "sns.set_style('white')\n",
    "sns.set_context('talk')\n",
    "\n",
    "import matplotlib.pyplot as plt\n",
    "\n",
    "from empyrical_dist import Pmf"
   ]
  },
  {
   "cell_type": "markdown",
   "metadata": {},
   "source": [
    "### Working with Pmfs\n",
    "* Create a Pmf object to represent a six-sided die."
   ]
  },
  {
   "cell_type": "code",
   "execution_count": 4,
   "metadata": {},
   "outputs": [],
   "source": [
    "prob_mass_func = Pmf()"
   ]
  },
  {
   "cell_type": "markdown",
   "metadata": {},
   "source": [
    "Pmf is a map from possible outcomes to their probabilities."
   ]
  },
  {
   "cell_type": "code",
   "execution_count": 6,
   "metadata": {},
   "outputs": [],
   "source": [
    "for x in [1,2,3,4,5,6]:\n",
    "    prob_mass_func[x] = 1"
   ]
  },
  {
   "cell_type": "markdown",
   "metadata": {},
   "source": [
    "Initially the probabilities don't add up to 1."
   ]
  },
  {
   "cell_type": "markdown",
   "metadata": {},
   "source": [
    "Normalize adds up the probabilities and divides through. The return value is the total probability before normalizing."
   ]
  },
  {
   "cell_type": "code",
   "execution_count": 8,
   "metadata": {},
   "outputs": [
    {
     "data": {
      "text/plain": [
       "6"
      ]
     },
     "execution_count": 8,
     "metadata": {},
     "output_type": "execute_result"
    }
   ],
   "source": [
    "prob_mass_func.normalize()"
   ]
  },
  {
   "cell_type": "code",
   "execution_count": 9,
   "metadata": {},
   "outputs": [
    {
     "data": {
      "text/plain": [
       "3.5"
      ]
     },
     "execution_count": 9,
     "metadata": {},
     "output_type": "execute_result"
    }
   ],
   "source": [
    "prob_mass_func.mean()"
   ]
  },
  {
   "cell_type": "markdown",
   "metadata": {},
   "source": [
    "Chooses a random values from the Pmf."
   ]
  },
  {
   "cell_type": "code",
   "execution_count": 10,
   "metadata": {},
   "outputs": [
    {
     "data": {
      "text/plain": [
       "array([6, 3, 2, 2, 3, 6, 6, 3, 3, 1])"
      ]
     },
     "execution_count": 10,
     "metadata": {},
     "output_type": "execute_result"
    }
   ],
   "source": [
    "prob_mass_func.choice(size=10)"
   ]
  },
  {
   "cell_type": "raw",
   "metadata": {},
   "source": [
    "Bar plots the Pmf from bar chart"
   ]
  },
  {
   "cell_type": "code",
   "execution_count": 11,
   "metadata": {},
   "outputs": [],
   "source": [
    "def decorate_dice(title):\n",
    "    \"\"\"Labels the axes.\n",
    "    \n",
    "    title: string\n",
    "    \"\"\"\n",
    "    plt.xlabel('Outcome')\n",
    "    plt.ylabel('PMF')\n",
    "    plt.title(title)"
   ]
  },
  {
   "cell_type": "code",
   "execution_count": 12,
   "metadata": {},
   "outputs": [
    {
     "data": {
      "image/png": "[encoded data removed]",
      "text/plain": [
       "<Figure size 432x288 with 1 Axes>"
      ]
     },
     "metadata": {},
     "output_type": "display_data"
    }
   ],
   "source": [
    "prob_mass_func.bar()\n",
    "decorate_dice('One die')"
   ]
  },
  {
   "cell_type": "markdown",
   "metadata": {},
   "source": [
    "### Exercise 1: Plot twice and compute its mean."
   ]
  },
  {
   "cell_type": "markdown",
   "metadata": {},
   "source": [
    "### Exercise 2: Suppose I roll two dice and tell you the result is greater than 3.\n",
    "\n",
    "### Plot the Pmf of the remaining possible outcomes and compute its mean."
   ]
  },
  {
   "cell_type": "markdown",
   "metadata": {},
   "source": [
    "### Bonus exercise: In Dungeons and Dragons, the amount of damage a goblin can withstand is the sum of two six-sided dice. The amount of damage you inflict with a short sword is determined by rolling one six-sided die.\n",
    "\n",
    "* Suppose you are fighting a goblin and you have already inflicted 3 points of damage. What is your probability of defeating the goblin with your next successful attack?\n",
    "\n",
    "* Hint: If you compare two Pmf objects with comparator operators like > and <, the result is a probability."
   ]
  },
  {
   "cell_type": "markdown",
   "metadata": {},
   "source": [
    "### The cookie problem\n",
    "Pmf.from_seq makes a Pmf object from a sequence of values.\n",
    "\n",
    "Here's how we can use it to create a Pmf with two equally likely hypotheses."
   ]
  },
  {
   "cell_type": "markdown",
   "metadata": {},
   "source": [
    "\n",
    "### Exercise 3: Suppose we put the first cookie back, stir, choose again from the same bowl, and get a chocolate cookie.\n",
    "\n",
    "What are the posterior probabilities after the second cookie?\n",
    "\n",
    "Hint: The posterior (after the first cookie) becomes the prior (before the second cookie)."
   ]
  },
  {
   "cell_type": "markdown",
   "metadata": {},
   "source": [
    "### Exercise 4: Instead of doing two updates, what if we collapse the two pieces of data into one update?\n",
    "\n",
    "Re-initialize Pmf with two equally likely hypotheses and perform one update based on two pieces of data, a vanilla cookie and a chocolate cookie.\n",
    "\n",
    "The result should be the same regardless of how many updates you do (or the order of updates)."
   ]
  },
  {
   "cell_type": "code",
   "execution_count": null,
   "metadata": {},
   "outputs": [],
   "source": []
  }
 ],
 "metadata": {
  "kernelspec": {
   "display_name": "Python 3",
   "language": "python",
   "name": "python3"
  },
  "language_info": {
   "codemirror_mode": {
    "name": "ipython",
    "version": 3
   },
   "file_extension": ".py",
   "mimetype": "text/x-python",
   "name": "python",
   "nbconvert_exporter": "python",
   "pygments_lexer": "ipython3",
   "version": "3.6.8"
  }
 },
 "nbformat": 4,
 "nbformat_minor": 2
}
